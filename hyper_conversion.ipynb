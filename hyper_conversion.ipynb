{
 "cells": [
  {
   "cell_type": "code",
   "execution_count": 26,
   "metadata": {},
   "outputs": [],
   "source": [
    "datasets = { \n",
    "    'hmtg': dict(reads_file = 'human/mtg/human_MTG_2018-06-14_intron-matrix.csv',\n",
    "                 genes_file = 'human/mtg/human_MTG_2018-06-14_genes-rows.csv',\n",
    "                 samples_file = 'human/mtg/human_MTG_2018-06-14_samples-columns.csv',\n",
    "                 output_file = 'extracts/hmtg_intron_reads.hyper'),\n",
    "    'hacc': dict(reads_file = 'human/acc/human_ACC_2018-10-04_intron-matrix.csv',\n",
    "                 genes_file = 'human/acc/human_ACC_2018-10-04_genes-rows.csv',\n",
    "                 samples_file = 'human/acc/human_ACC_2018-10-04_samples-columns.csv',\n",
    "                 output_file = 'extracts/hacc_intron_reads.hyper',\n",
    "                 sample_row_key = 'gene',\n",
    "                 sample_col_key = 'seq_name'),\n",
    "    'hlgn': dict(reads_file = 'human/lgn/human_LGN_2018-06-14_intron-matrix.csv',\n",
    "                 genes_file = 'human/lgn/human_LGN_2018-06-14_genes-rows.csv',\n",
    "                 samples_file = 'human/lgn/human_LGN_2018-06-14_samples-columns.csv',\n",
    "                 output_file = 'extracts/hlgn_intron_reads.hyper'),\n",
    "    'hv1': dict(reads_file = 'human/visp/human_VISp_2018-10-04_intron-matrix.csv',\n",
    "                genes_file = 'human/visp/human_VISp_2018-10-04_genes-rows.csv',\n",
    "                samples_file = 'human/visp/human_VISp_2018-10-04_samples-columns.csv',\n",
    "                output_file = 'extracts/hv1_intron_reads.hyper',\n",
    "                sample_row_key = 'gene',\n",
    "                sample_col_key = 'seq_name'),\n",
    "    'mv1': dict(reads_file = 'mouse/v1/mouse_VISp_2018-06-14_intron-matrix.csv',\n",
    "                genes_file = 'mouse/v1/mouse_VISp_2018-06-14_genes-rows.csv',\n",
    "                samples_file = 'mouse/v1/mouse_VISp_2018-06-14_samples-columns.csv',\n",
    "                output_file = 'extracts/mv1_intron_reads.hyper'),\n",
    "    'mmop': dict(reads_file = 'mouse/mop/mouse_MOp_nuclei_2018-10-04_intron-matrix.csv',\n",
    "                 genes_file = 'mouse/mop/mouse_MOp_nuclei_2018-10-04_genes-rows.csv',\n",
    "                 samples_file = 'mouse/mop/mouse_MOp_nuclei_2018-10-04_samples-columns.csv',\n",
    "                 output_file = 'extracts/mmop_intron_reads.hyper',\n",
    "                sample_row_key = 'gene',\n",
    "                sample_col_key = 'seq_name'),\n",
    "    'mlgd': dict(reads_file = 'mouse/lgd/mouse_LGd_2018-06-14_intron-matrix.csv',\n",
    "                 genes_file = 'mouse/lgd/mouse_LGd_2018-06-14_genes-rows.csv',\n",
    "                 samples_file = 'mouse/lgd/mouse_LGd_2018-06-14_samples-columns.csv',\n",
    "                 output_file = 'extracts/mlgd_intron_reads.hyper'),\n",
    "    'malm': dict(reads_file = 'mouse/alm/mouse_ALM_2018-06-14_intron-matrix.csv',\n",
    "                 genes_file = 'mouse/alm/mouse_ALM_2018-06-14_genes-rows.csv',\n",
    "                 samples_file = 'mouse/alm/mouse_ALM_2018-06-14_samples-columns.csv',\n",
    "                 output_file = 'extracts/malm_intron_reads.hyper'),\n",
    "    'maca': dict(reads_file = 'mouse/aca/mouse_ACA_2018-10-04_intron-matrix.csv',\n",
    "                 genes_file = 'mouse/aca/mouse_ACA_2018-10-04_genes-rows.csv',\n",
    "                 samples_file = 'mouse/aca/mouse_ACA_2018-10-04_samples-columns.csv',\n",
    "                 output_file = 'extracts/maca_intron_reads.hyper',\n",
    "                sample_row_key = 'gene',\n",
    "                sample_col_key = 'seq_name')\n",
    "}"
   ]
  },
  {
   "cell_type": "code",
   "execution_count": 17,
   "metadata": {},
   "outputs": [],
   "source": [
    "import pandas as pd\n",
    "from pandleau import *\n",
    "\n",
    "def convert(samples_file, genes_file, reads_file, output_file, sample_row_key='entrez_id', sample_col_key='sample_name'):        \n",
    "    samples = pd.read_csv(samples_file, encoding = \"ISO-8859-1\")\n",
    "    genes = pd.read_csv(genes_file)\n",
    "    reads = pd.read_csv(reads_file)\n",
    "        \n",
    "    if sample_col_key != 'sample_id':\n",
    "        col_to_sample_id = { s[sample_col_key]:s['sample_id'] for i,s in samples.iterrows() }\n",
    "        reads.rename(columns=col_to_sample_id, inplace=True)\n",
    "    \n",
    "    reads.rename(columns={ 'Unnamed: 0': 'entrez_id' }, inplace=True)\n",
    "    \n",
    "    if sample_row_key != 'entrez_id':\n",
    "        row_to_entrez_id = { g[sample_row_key]:g['entrez_id'] for i,g in genes.iterrows() }\n",
    "        reads['entrez_id'] = reads['entrez_id'].map(row_to_entrez_id)        \n",
    "    \n",
    "    reads = reads.melt(id_vars=['entrez_id'], var_name='sample_id', value_name='reads')\n",
    "    \n",
    "    reads = reads[reads.reads>0]\n",
    "    reads['sample_id'] = reads['sample_id'].astype('int64')\n",
    "    \n",
    "    df_tab = pandleau(reads)\n",
    "    df_tab.to_tableau(output_file, add_index=False)\n"
   ]
  },
  {
   "cell_type": "code",
   "execution_count": 27,
   "metadata": {},
   "outputs": [
    {
     "name": "stdout",
     "output_type": "stream",
     "text": [
      "maca\n",
      "Table 'Extract' does not exist in extract extracts/maca_intron_reads.hyper, creating.\n"
     ]
    },
    {
     "name": "stderr",
     "output_type": "stream",
     "text": [
      "processing table: 19107066it [03:16, 97152.22it/s] \n"
     ]
    }
   ],
   "source": [
    "import os \n",
    "for ds_name, ds in datasets.items():\n",
    "    if not os.path.exists(ds['output_file']):\n",
    "        print(ds_name)\n",
    "        convert(**ds)    "
   ]
  },
  {
   "cell_type": "code",
   "execution_count": null,
   "metadata": {},
   "outputs": [],
   "source": []
  }
 ],
 "metadata": {
  "kernelspec": {
   "display_name": "Python 3",
   "language": "python",
   "name": "python3"
  },
  "language_info": {
   "codemirror_mode": {
    "name": "ipython",
    "version": 3
   },
   "file_extension": ".py",
   "mimetype": "text/x-python",
   "name": "python",
   "nbconvert_exporter": "python",
   "pygments_lexer": "ipython3",
   "version": "3.7.4"
  }
 },
 "nbformat": 4,
 "nbformat_minor": 4
}
