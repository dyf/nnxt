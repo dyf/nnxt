{
 "cells": [
  {
   "cell_type": "code",
   "execution_count": 14,
   "metadata": {},
   "outputs": [],
   "source": [
    "import requests\n",
    "import pandas as pd\n",
    "from collections import defaultdict"
   ]
  },
  {
   "cell_type": "code",
   "execution_count": 2,
   "metadata": {},
   "outputs": [],
   "source": [
    "human_genes = pd.read_csv('hmtg/human_MTG_2018-06-14_genes-rows.csv')\n",
    "entrez_ids = human_genes['entrez_id']"
   ]
  },
  {
   "cell_type": "code",
   "execution_count": 15,
   "metadata": {},
   "outputs": [],
   "source": [
    "def clean_result(r):\n",
    "    return { 'entrez_id': r['entrez_id'],             \n",
    "             'tags': set([ c['name'] for c in r['gene_classifications'] ]),\n",
    "             'categories': set([ c['category'] for c in r['gene_classifications']]) }"
   ]
  },
  {
   "cell_type": "code",
   "execution_count": 19,
   "metadata": {},
   "outputs": [
    {
     "name": "stdout",
     "output_type": "stream",
     "text": [
      "1 / 50281\n",
      "1001 / 50281\n",
      "2001 / 50281\n",
      "3001 / 50281\n",
      "4001 / 50281\n",
      "5001 / 50281\n",
      "6001 / 50281\n",
      "7001 / 50281\n",
      "8001 / 50281\n",
      "9001 / 50281\n",
      "10001 / 50281\n",
      "11001 / 50281\n",
      "12001 / 50281\n",
      "13001 / 50281\n",
      "14001 / 50281\n",
      "15001 / 50281\n",
      "16001 / 50281\n",
      "17001 / 50281\n",
      "18001 / 50281\n",
      "19001 / 50281\n",
      "20001 / 50281\n",
      "21001 / 50281\n",
      "22001 / 50281\n",
      "23001 / 50281\n",
      "24001 / 50281\n",
      "25001 / 50281\n",
      "26001 / 50281\n",
      "27001 / 50281\n",
      "28001 / 50281\n",
      "29001 / 50281\n",
      "30001 / 50281\n",
      "31001 / 50281\n",
      "32001 / 50281\n",
      "33001 / 50281\n",
      "34001 / 50281\n",
      "35001 / 50281\n",
      "36001 / 50281\n",
      "37001 / 50281\n",
      "38001 / 50281\n",
      "39001 / 50281\n",
      "40001 / 50281\n",
      "41001 / 50281\n",
      "42001 / 50281\n",
      "43001 / 50281\n",
      "44001 / 50281\n",
      "45001 / 50281\n",
      "46001 / 50281\n",
      "47001 / 50281\n",
      "48001 / 50281\n",
      "49001 / 50281\n",
      "50001 / 50281\n"
     ]
    }
   ],
   "source": [
    "block_size = 25\n",
    "\n",
    "tags = defaultdict(set)\n",
    "categories = defaultdict(set)\n",
    "\n",
    "nids = len(entrez_ids)\n",
    "for i in range(0, nids, block_size):\n",
    "    block_ids = entrez_ids[i:i+block_size]\n",
    "    block_id_str = \",\".join(block_ids.apply(str).values)\n",
    "    \n",
    "    query = f\"http://api.brain-map.org/api/v2/data/Gene/query.json?criteria=[entrez_id$in{block_id_str}]&include=gene_classifications\"\n",
    "    \n",
    "    res = requests.get(query)\n",
    "    for r in res.json()['msg']:\n",
    "        cr = clean_result(r)\n",
    "        tags[cr['entrez_id']].update(cr['tags'])\n",
    "        categories[cr['entrez_id']].update(cr['categories'])\n",
    "    \n",
    "    if i % 1000 == 0:       \n",
    "        print(f\"{i+1} / {nids}\")    "
   ]
  },
  {
   "cell_type": "code",
   "execution_count": 24,
   "metadata": {},
   "outputs": [],
   "source": [
    "res_df = pd.DataFrame({\n",
    "    'entrez_id': entrez_ids,\n",
    "    'tags': [ ';'.join(tags[eid]) for eid in entrez_ids ],\n",
    "    'categories': [ ';'.join(categories[eid]) for eid in entrez_ids ],\n",
    "})"
   ]
  },
  {
   "cell_type": "code",
   "execution_count": 26,
   "metadata": {},
   "outputs": [],
   "source": [
    "res_df.to_csv('gene_tags.csv', index=False)"
   ]
  }
 ],
 "metadata": {
  "kernelspec": {
   "display_name": "Python 3",
   "language": "python",
   "name": "python3"
  },
  "language_info": {
   "codemirror_mode": {
    "name": "ipython",
    "version": 3
   },
   "file_extension": ".py",
   "mimetype": "text/x-python",
   "name": "python",
   "nbconvert_exporter": "python",
   "pygments_lexer": "ipython3",
   "version": "3.7.4"
  }
 },
 "nbformat": 4,
 "nbformat_minor": 4
}
